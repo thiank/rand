{
 "cells": [
  {
   "cell_type": "markdown",
   "metadata": {},
   "source": [
    "Goal: get the subtitles/caption of Dr. Lisa Feldman Barrett's talk\n",
    "> Lisa Feldman Barrett: Emotion inside out <br> https://www.youtube.com/watch?v=h7Mtwds0wW4\n",
    "\n",
    "Stages:\n",
    "1. open transcript from Youtube and copy paste into new Excel sheet and save on Desktop\n",
    "2. be sure to add on the top row the column header (e.g. 'words') as it's so much easier than doing it here\n",
    "3. make sure the directory is set to Desktop\n",
    "4. using pandas, read excel into dataframe\n",
    "5. concatenate all the words into one string (note: omfg this took me so long, but only after 'df.COLUMN_HEADER.' can you 'str.cat.')\n",
    "6. save/export so you can listen to the lecture and profit/learn!"
   ]
  },
  {
   "cell_type": "code",
   "execution_count": 1,
   "metadata": {
    "collapsed": false
   },
   "outputs": [
    {
     "data": {
      "text/plain": [
       "'/Users/ian/Desktop'"
      ]
     },
     "execution_count": 1,
     "metadata": {},
     "output_type": "execute_result"
    }
   ],
   "source": [
    "import os\n",
    "os.getcwd()"
   ]
  },
  {
   "cell_type": "code",
   "execution_count": 2,
   "metadata": {
    "collapsed": false
   },
   "outputs": [
    {
     "data": {
      "text/html": [
       "<div>\n",
       "<table border=\"1\" class=\"dataframe\">\n",
       "  <thead>\n",
       "    <tr style=\"text-align: right;\">\n",
       "      <th></th>\n",
       "      <th>words</th>\n",
       "    </tr>\n",
       "  </thead>\n",
       "  <tbody>\n",
       "    <tr>\n",
       "      <th>0</th>\n",
       "      <td>so I'm gonna start off by talking about</td>\n",
       "    </tr>\n",
       "    <tr>\n",
       "      <th>1</th>\n",
       "      <td>cartoons who here likes cartoons I know</td>\n",
       "    </tr>\n",
       "    <tr>\n",
       "      <th>2</th>\n",
       "      <td>right cartoon chemistry is about mixing</td>\n",
       "    </tr>\n",
       "    <tr>\n",
       "      <th>3</th>\n",
       "      <td>colorful liquids and watching them blow</td>\n",
       "    </tr>\n",
       "    <tr>\n",
       "      <th>4</th>\n",
       "      <td>up and cartoon physics is about running</td>\n",
       "    </tr>\n",
       "  </tbody>\n",
       "</table>\n",
       "</div>"
      ],
      "text/plain": [
       "                                     words\n",
       "0  so I'm gonna start off by talking about\n",
       "1  cartoons who here likes cartoons I know\n",
       "2  right cartoon chemistry is about mixing\n",
       "3  colorful liquids and watching them blow\n",
       "4  up and cartoon physics is about running"
      ]
     },
     "execution_count": 2,
     "metadata": {},
     "output_type": "execute_result"
    }
   ],
   "source": [
    "import pandas as pd\n",
    "df = pd.read_excel('Workbook1.xlsx',header=0)\n",
    "df.head()"
   ]
  },
  {
   "cell_type": "code",
   "execution_count": 3,
   "metadata": {
    "collapsed": false
   },
   "outputs": [],
   "source": [
    "df.words.str.cat(sep=' '); # use ';' to suppress the damn long output"
   ]
  },
  {
   "cell_type": "code",
   "execution_count": 4,
   "metadata": {
    "collapsed": true
   },
   "outputs": [],
   "source": [
    "save_dis_plz = pd.ExcelWriter('Workbook2.xlsx', engine='xlsxwriter')\n",
    "df.to_excel(save_dis_plz,sheet_name='Sheet1')\n",
    "save_dis_plz.save()"
   ]
  }
 ],
 "metadata": {
  "kernelspec": {
   "display_name": "Python 3",
   "language": "python",
   "name": "python3"
  },
  "language_info": {
   "codemirror_mode": {
    "name": "ipython",
    "version": 3
   },
   "file_extension": ".py",
   "mimetype": "text/x-python",
   "name": "python",
   "nbconvert_exporter": "python",
   "pygments_lexer": "ipython3",
   "version": "3.6.0"
  }
 },
 "nbformat": 4,
 "nbformat_minor": 2
}
